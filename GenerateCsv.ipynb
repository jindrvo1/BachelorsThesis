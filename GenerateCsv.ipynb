{
 "cells": [
  {
   "cell_type": "code",
   "execution_count": 1,
   "metadata": {},
   "outputs": [],
   "source": [
    "import sqlite3\n",
    "import csv"
   ]
  },
  {
   "cell_type": "code",
   "execution_count": 2,
   "metadata": {},
   "outputs": [],
   "source": [
    "dataset = sqlite3.connect('database.sqlite')"
   ]
  },
  {
   "cell_type": "code",
   "execution_count": 3,
   "metadata": {},
   "outputs": [],
   "source": [
    "matches_fetch = dataset.execute('SELECT * FROM Match WHERE country_id = 1729 ORDER BY date ASC')\n",
    "matches = []\n",
    "players = []"
   ]
  },
  {
   "cell_type": "code",
   "execution_count": 4,
   "metadata": {},
   "outputs": [],
   "source": [
    "for row in matches_fetch.fetchall():\n",
    "    team1 = []\n",
    "    team2 = []\n",
    "    \n",
    "    team1_s = row[9]\n",
    "    team2_s = row[10]\n",
    "    \n",
    "    if team1_s != team2_s and team1_s is not None and team2_s is not None:\n",
    "        for index in range(55, 66):\n",
    "            id = row[index]\n",
    "            if id is not None:\n",
    "                team1.append(id)\n",
    "                \n",
    "                if id not in players:\n",
    "                    players.append(id)\n",
    "\n",
    "        for index in range(66, 77):\n",
    "            id = row[index]\n",
    "            if id is not None:\n",
    "                team2.append(id)\n",
    "                \n",
    "                if id not in players:\n",
    "                    players.append(id)\n",
    "\n",
    "        if len(team1) == 11 and len(team2) == 11:\n",
    "            matches.append((team1, team2, team1_s, team2_s))"
   ]
  },
  {
   "cell_type": "code",
   "execution_count": 5,
   "metadata": {},
   "outputs": [],
   "source": [
    "file = 'teams.csv'\n",
    "with open(file, 'w') as f:\n",
    "    fieldnames = []\n",
    "    for i in range(11):\n",
    "        fieldnames.append(\"w{}\".format(i+1))\n",
    "    for i in range(11):\n",
    "        fieldnames.append(\"l{}\".format(i+1))\n",
    "    fieldnames.append('goals_winner')\n",
    "    fieldnames.append('goals_loser')\n",
    "    \n",
    "    writer = csv.DictWriter(f, fieldnames=fieldnames)\n",
    "    writer.writeheader()\n",
    "\n",
    "    for match in matches:\n",
    "        row = {}\n",
    "        team1 = match[0]\n",
    "        team2 = match[1]\n",
    "        team1_s = match[2]\n",
    "        team2_s = match[3]\n",
    "        \n",
    "        for i in range(len(team1)):\n",
    "            if team1_s > team2_s:\n",
    "                row[\"w{}\".format(i+1)] = team1[i]\n",
    "            else:\n",
    "                row[\"l{}\".format(i+1)] = team1[i]\n",
    "                \n",
    "        for i in range(len(team2)):\n",
    "            if team2_s > team1_s:\n",
    "                row[\"w{}\".format(i+1)] = team2[i]\n",
    "            else:\n",
    "                row[\"l{}\".format(i+1)] = team2[i]\n",
    "        \n",
    "        if team1_s > team2_s:\n",
    "            row['goals_winner'] = team1_s\n",
    "            row['goals_loser'] = team2_s\n",
    "        else:\n",
    "            row['goals_winner'] = team2_s\n",
    "            row['goals_loser'] = team1_s\n",
    "        \n",
    "        writer.writerow(row)\n",
    "            "
   ]
  },
  {
   "cell_type": "code",
   "execution_count": 6,
   "metadata": {},
   "outputs": [],
   "source": [
    "file = 'players.csv'\n",
    "with open(file, 'w') as f:\n",
    "    fieldnames = ['player']\n",
    "    \n",
    "    writer = csv.DictWriter(f, fieldnames=fieldnames)\n",
    "    writer.writeheader()\n",
    "    \n",
    "    for player in players:\n",
    "        row = {}\n",
    "        \n",
    "        row['player'] = player\n",
    "            \n",
    "        writer.writerow(row)"
   ]
  },
  {
   "cell_type": "code",
   "execution_count": null,
   "metadata": {},
   "outputs": [],
   "source": []
  }
 ],
 "metadata": {
  "kernelspec": {
   "display_name": "Python 3",
   "language": "python",
   "name": "python3"
  },
  "language_info": {
   "codemirror_mode": {
    "name": "ipython",
    "version": 3
   },
   "file_extension": ".py",
   "mimetype": "text/x-python",
   "name": "python",
   "nbconvert_exporter": "python",
   "pygments_lexer": "ipython3",
   "version": "3.6.4"
  }
 },
 "nbformat": 4,
 "nbformat_minor": 2
}
